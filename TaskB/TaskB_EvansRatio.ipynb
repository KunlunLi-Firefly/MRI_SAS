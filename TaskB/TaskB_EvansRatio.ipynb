{
 "cells": [
  {
   "cell_type": "code",
   "execution_count": 8,
   "id": "b4487a5f",
   "metadata": {},
   "outputs": [],
   "source": [
    "\n",
    "\n",
    "import nibabel as nib\n",
    "import numpy as np\n",
    "\n",
    "# Load the image file\n",
    "\n",
    "img = nib.load(r'C:\\Users\\KUN\\Desktop\\jhu course\\Medical image analysis\\project\\MRI\\mia_s24_mri_project\\mia_s24_mri_project\\output\\subject_58\\mri\\ventricles_axial.mgz')\n",
    "\n",
    "# Get the data as a numpy array\n",
    "data = img.get_fdata()\n",
    "\n",
    "# Flip the image vertically\n",
    "flipped_data = np.flipud(data)\n",
    "\n",
    "# Create a new image from the flipped data\n",
    "flipped_img = nib.Nifti1Image(flipped_data, img.affine)\n",
    "\n",
    "# Save the flipped image\n",
    "\n",
    "nib.save(flipped_img, r'C:\\Users\\KUN\\Desktop\\jhu course\\Medical image analysis\\project\\MRI\\mia_s24_mri_project\\mia_s24_mri_project\\output\\subject_58\\mri\\ventricles_axial_flipped.nii')\n"
   ]
  },
  {
   "cell_type": "code",
   "execution_count": 12,
   "id": "39ff4611",
   "metadata": {},
   "outputs": [
    {
     "name": "stdout",
     "output_type": "stream",
     "text": [
      "Evans' Ratio: 0.26811594202898553\n"
     ]
    }
   ],
   "source": [
    "import nibabel as nib\n",
    "import numpy as np\n",
    "\n",
    "def load_nifti(file_path):\n",
    "    \"\"\"Load a NIFTI file.\"\"\"\n",
    "    return nib.load(file_path).get_fdata()\n",
    "\n",
    "def load_mgz(file_path):\n",
    "    \"\"\"Load an MGZ file.\"\"\"\n",
    "    return nib.load(file_path).get_fdata()\n",
    "\n",
    "def calculate_evans_ratio(ventricles_img, brain_mask):\n",
    "\n",
    "    ventricle_width = np.max(np.sum(ventricles_img, axis=0))  # Sum across the axial slice\n",
    "\n",
    "    # Calculate the maximum internal diameter of the brain using the brain mask\n",
    "    brain_width = np.max(np.sum(brain_mask, axis=0))\n",
    "\n",
    "    # Calculate Evans' Ratio\n",
    "    return ventricle_width / brain_width\n",
    "\n",
    "# Paths to your files\n",
    "ventricles_path = r'C:\\Users\\KUN\\Desktop\\jhu course\\Medical image analysis\\project\\MRI\\mia_s24_mri_project\\mia_s24_mri_project\\output\\subject_58\\mri\\ventricles_axial_flipped.nii'\n",
    "brain_mask_path = r'C:\\Users\\KUN\\Desktop\\jhu course\\Medical image analysis\\project\\MRI\\mia_s24_mri_project\\mia_s24_mri_project\\output\\subject_58\\mri\\mask_axial.mgz'\n",
    "\n",
    "# Load images\n",
    "ventricles_img = load_nifti(ventricles_path)\n",
    "brain_mask = load_mgz(brain_mask_path)\n",
    "\n",
    "# Calculate Evans' Ratio\n",
    "evans_ratio = calculate_evans_ratio(ventricles_img, brain_mask)\n",
    "print(f\"Evans' Ratio: {evans_ratio}\")\n"
   ]
  },
  {
   "cell_type": "code",
   "execution_count": 13,
   "id": "a3b84b79",
   "metadata": {},
   "outputs": [],
   "source": [
    "import nibabel as nib\n",
    "import numpy as np\n",
    "\n",
    "def load_nifti(file_path):\n",
    "    \"\"\"Load a NIFTI file.\"\"\"\n",
    "    return nib.load(file_path).get_fdata()\n",
    "\n",
    "def load_mgz(file_path):\n",
    "    \"\"\"Load an MGZ file.\"\"\"\n",
    "    return nib.load(file_path).get_fdata()\n",
    "\n",
    "def calculate_evans_ratio(ventricles_img, brain_mask):\n",
    "\n",
    "    ventricle_width = np.max(np.sum(ventricles_img, axis=0))  # Sum across the axial slice\n",
    "\n",
    "    # Calculate the maximum internal diameter of the brain using the brain mask\n",
    "    brain_width = np.max(np.sum(brain_mask, axis=0))\n",
    "\n",
    "    # Calculate Evans' Ratio\n",
    "    return ventricle_width / brain_width\n",
    "\n",
    "def main():\n",
    "    base_path = r'C:\\Users\\KUN\\Desktop\\jhu course\\Medical image analysis\\project\\MRI\\mia_s24_mri_project\\mia_s24_mri_project\\output'\n",
    "    subjects = [54, 55, 56, 57, 58]\n",
    "    evans_ratios = []\n",
    "\n",
    "    for subject in subjects:\n",
    "        ventricles_path = f'{base_path}\\\\subject_{subject}\\\\mri\\\\ventricles_axial_flipped.nii'\n",
    "        brain_mask_path = f'{base_path}\\\\subject_{subject}\\\\mri\\\\mask_axial.mgz'\n",
    "\n",
    "        # Load images\n",
    "        ventricles_img = load_nifti(ventricles_path)\n",
    "        brain_mask = load_mgz(brain_mask_path)\n",
    "\n",
    "        # Calculate Evans' Ratio\n",
    "        evans_ratio = calculate_evans_ratio(ventricles_img, brain_mask)\n",
    "        evans_ratios.append(evans_ratio)\n",
    "\n",
    "    # Save Evans' Ratios to a text file\n",
    "    with open(f'{base_path}\\\\evansratio.txt', 'w') as file:\n",
    "        for ratio in evans_ratios:\n",
    "            file.write(f\"{ratio}\\n\")\n",
    "\n",
    "if __name__ == '__main__':\n",
    "    main()\n"
   ]
  },
  {
   "cell_type": "code",
   "execution_count": null,
   "id": "14d08ca3",
   "metadata": {},
   "outputs": [],
   "source": []
  }
 ],
 "metadata": {
  "kernelspec": {
   "display_name": "Python 3 (ipykernel)",
   "language": "python",
   "name": "python3"
  },
  "language_info": {
   "codemirror_mode": {
    "name": "ipython",
    "version": 3
   },
   "file_extension": ".py",
   "mimetype": "text/x-python",
   "name": "python",
   "nbconvert_exporter": "python",
   "pygments_lexer": "ipython3",
   "version": "3.11.5"
  }
 },
 "nbformat": 4,
 "nbformat_minor": 5
}
